{
 "cells": [
  {
   "cell_type": "markdown",
   "metadata": {},
   "source": [
    "# Reinforcement Learning on S-RCPSPs\n",
    "This approach uses the Forward Sarsa (λ) algorithm and Adam stochastic gradient descent."
   ]
  },
  {
   "cell_type": "code",
   "execution_count": 14,
   "metadata": {},
   "outputs": [
    {
     "ename": "ModuleNotFoundError",
     "evalue": "No module named 'thesis'",
     "output_type": "error",
     "traceback": [
      "\u001b[1;31m---------------------------------------------------------------------------\u001b[0m",
      "\u001b[1;31mModuleNotFoundError\u001b[0m                       Traceback (most recent call last)",
      "\u001b[1;32m<ipython-input-14-1f2c8bbfa232>\u001b[0m in \u001b[0;36m<module>\u001b[1;34m\u001b[0m\n\u001b[1;32m----> 1\u001b[1;33m \u001b[1;32mfrom\u001b[0m \u001b[0mthesis\u001b[0m \u001b[1;32mimport\u001b[0m \u001b[1;33m*\u001b[0m\u001b[1;33m\u001b[0m\u001b[1;33m\u001b[0m\u001b[0m\n\u001b[0m\u001b[0;32m      2\u001b[0m \u001b[1;32mfrom\u001b[0m \u001b[0mthesis\u001b[0m\u001b[1;33m.\u001b[0m\u001b[0mProject\u001b[0m \u001b[1;32mimport\u001b[0m \u001b[1;33m*\u001b[0m\u001b[1;33m\u001b[0m\u001b[1;33m\u001b[0m\u001b[0m\n\u001b[0;32m      3\u001b[0m \u001b[1;32mfrom\u001b[0m \u001b[0mForwardSarsaLambda\u001b[0m \u001b[1;32mimport\u001b[0m \u001b[1;33m*\u001b[0m\u001b[1;33m\u001b[0m\u001b[1;33m\u001b[0m\u001b[0m\n\u001b[0;32m      4\u001b[0m \u001b[1;33m\u001b[0m\u001b[0m\n\u001b[0;32m      5\u001b[0m \u001b[1;32mfrom\u001b[0m \u001b[0mnumba\u001b[0m \u001b[1;32mimport\u001b[0m \u001b[0mjit\u001b[0m\u001b[1;33m\u001b[0m\u001b[1;33m\u001b[0m\u001b[0m\n",
      "\u001b[1;31mModuleNotFoundError\u001b[0m: No module named 'thesis'"
     ]
    }
   ],
   "source": [
    "from thesis.Project import *\n",
    "from ForwardSarsaLambda import *\n",
    "\n",
    "import random\n",
    "\n",
    "import tensorflow as tf\n",
    "import keras as K\n",
    "from keras.models import Sequential\n",
    "from keras.layers import Dense, Dropout\n",
    "from keras.optimizers import Adam\n",
    "from keras.callbacks import TensorBoard\n",
    "\n",
    "import logging\n",
    "import importlib\n",
    "\n",
    "importlib.reload(logging)\n",
    "logging.basicConfig(format='%(asctime)s %(levelname)s:%(message)s', level=logging.INFO, datefmt='%I:%M:%S')"
   ]
  },
  {
   "cell_type": "code",
   "execution_count": null,
   "metadata": {},
   "outputs": [],
   "source": [
    "model_name='256-256-uni2-30'\n",
    "keep_prob = 0.8"
   ]
  },
  {
   "cell_type": "code",
   "execution_count": null,
   "metadata": {},
   "outputs": [],
   "source": [
    "class Model:\n",
    "    def __init__(self, num_of_inputs, activation='relu'):\n",
    "\n",
    "        self.model = model = Sequential()\n",
    "        model.add(Dense(256, kernel_initializer='he_normal', activation=activation, input_shape=(num_of_inputs, )))\n",
    "        model.add(Dropout(rate=1-keep_prob))\n",
    "        #model.add(Dense(64, kernel_initializer='he_normal', activation=activation))\n",
    "        #model.add(Dropout(0.2))\n",
    "        model.add(Dense(256, kernel_initializer='he_normal', activation=activation))\n",
    "        model.add(Dropout(rate=1-keep_prob))\n",
    "        model.add(Dense(1, kernel_initializer='he_normal', activation='linear'))\n",
    "\n",
    "        model.compile(loss='mean_squared_error', optimizer='adam')\n",
    "\n",
    "        self.tensorboard = TensorBoard(log_dir=\"D:/Gregor/Studium/Master 04 - WS 18-19/logs/\" + model_name, write_graph=False, update_freq=100)"
   ]
  },
  {
   "cell_type": "code",
   "execution_count": null,
   "metadata": {},
   "outputs": [],
   "source": [
    "m = Model(1266)"
   ]
  },
  {
   "cell_type": "code",
   "execution_count": null,
   "metadata": {},
   "outputs": [],
   "source": [
    "m.model.summary()"
   ]
  },
  {
   "cell_type": "code",
   "execution_count": null,
   "metadata": {},
   "outputs": [],
   "source": []
  },
  {
   "cell_type": "code",
   "execution_count": null,
   "metadata": {
    "scrolled": true
   },
   "outputs": [],
   "source": [
    "fsl.train()"
   ]
  },
  {
   "cell_type": "markdown",
   "metadata": {},
   "source": [
    "# PPO Algorithmus"
   ]
  },
  {
   "cell_type": "code",
   "execution_count": null,
   "metadata": {},
   "outputs": [],
   "source": [
    "class PPO:\n",
    "    def __init__(self, episodes, num_of_inputs, actor_learning_rate=0.001, critic_learning_rate=0.001,\n",
    "                 gamma=0.95, epsilon_clip=0.2, activation='relu'):\n",
    "        \"\"\"\n",
    "        \"\"\"\n",
    "        self.episodes = episodes\n",
    "        self.actor_learning_rate = actor_learning_rate\n",
    "        self.critic_learning_rate = critic_learning_rate\n",
    "        self.gamma = gamma\n",
    "        self.epsilon_clip = epsilon_clip\n",
    "        self.activation = activation\n",
    "        self.num_of_inputs = num_of_inputs\n",
    "\n",
    "        self.base_model = self.build_base_model(num_of_inputs, activation)\n",
    "        self.critic = self.build_critic(num_of_outputs)\n",
    "        self.actor = self.build_actor(num_of_inputs)\n",
    "\n",
    "    def ppo_loss(self, pred, pred_old):\n",
    "        \"\"\"L^(CLIP+VF+S) clipped loss function L^CLIP with added value function error\n",
    "           term VF as well as an entropy bonus S\n",
    "        \"\"\"\n",
    "        pass\n",
    "\n",
    "    def build_base_model(self):\n",
    "        \"\"\"Builds the model base without actor or critic head.\n",
    "        \n",
    "        :param num_of_inputs: number of inputs\n",
    "        :param activaton: the activation function\n",
    "        \"\"\"\n",
    "        model = Sequential()\n",
    "        model.add(Dense(64, kernel_initializer='he_normal', activation=activation, input_shape=(num_of_inputs, )))\n",
    "        model.add(Dropout(0.2))\n",
    "        model.add(Dense(64, kernel_initializer='he_normal', activation=activation))\n",
    "        model.add(Dropout(0.2))\n",
    "        model.add(Dense(64, kernel_initializer='he_normal', activation=activation))\n",
    "        model.add(Dropout(0.2))\n",
    "        return model\n",
    "\n",
    "    def build_actor(self):\n",
    "        actor = self.base_model\n",
    "        actor.add(Dense(1, kernel_initializer='he_normal', activation='linear'))\n",
    "        actor.compile(loss='mean_squared_error', optimizer='adam')\n",
    "        return actor\n",
    "\n",
    "    def build_critic(self):\n",
    "        critic = self.base_model\n",
    "        critic.add(Dense(num_actions))"
   ]
  },
  {
   "cell_type": "code",
   "execution_count": null,
   "metadata": {
    "scrolled": true
   },
   "outputs": [],
   "source": [
    "PPO(1, 603).build_actor()"
   ]
  },
  {
   "cell_type": "code",
   "execution_count": null,
   "metadata": {},
   "outputs": [],
   "source": [
    "from Project import *\n",
    "from ForwardSarsaLambda import *\n",
    "project.state()"
   ]
  },
  {
   "cell_type": "code",
   "execution_count": 108,
   "metadata": {},
   "outputs": [],
   "source": [
    "test_projects = [Project(p, stochastic='uniform_2') for p in test]"
   ]
  },
  {
   "cell_type": "code",
   "execution_count": 234,
   "metadata": {},
   "outputs": [],
   "source": [
    "min_weights = 1\n",
    "max_weights = 16\n",
    "num = 32\n",
    "eva = evaluator(test_projects[14], num)"
   ]
  },
  {
   "cell_type": "code",
   "execution_count": 235,
   "metadata": {},
   "outputs": [],
   "source": [
    "times = {}\n",
    "for weights in range(min_weights, max_weights):\n",
    "    ts = []\n",
    "    for i in range(20):\n",
    "        eva.load_weights(weights)\n",
    "        ts.append(eva.evaluate())\n",
    "    times[weights] = ts"
   ]
  },
  {
   "cell_type": "code",
   "execution_count": 236,
   "metadata": {},
   "outputs": [],
   "source": [
    "import matplotlib.pyplot as plt"
   ]
  },
  {
   "cell_type": "code",
   "execution_count": 237,
   "metadata": {},
   "outputs": [
    {
     "data": {
      "image/png": "[encoded data removed]",
      "text/plain": [
       "<Figure size 936x720 with 1 Axes>"
      ]
     },
     "metadata": {
      "needs_background": "light"
     },
     "output_type": "display_data"
    }
   ],
   "source": [
    "fig = plt.figure(figsize=(13, 10))\n",
    "ax = fig.add_subplot(111)\n",
    "ax.boxplot(times.values(), widths=0.3)\n",
    "\n",
    "ax.set_title('Test Topology J30-8-5 on {}-{}-{}'.format(num, num, num), fontsize=14, fontweight='bold')\n",
    "ax.set_xlabel('episode')\n",
    "ax.set_ylabel('duration')\n",
    "\n",
    "ax.spines['top'].set_visible(False)\n",
    "ax.spines['right'].set_visible(False)\n",
    "#ax.spines['bottom'].set_visible(False)\n",
    "#ax.spines['left'].set_visible(False)\n",
    "\n",
    "plt.show()"
   ]
  }
 ],
 "metadata": {
  "kernelspec": {
   "display_name": "Python 3",
   "language": "python",
   "name": "python3"
  },
  "language_info": {
   "codemirror_mode": {
    "name": "ipython",
    "version": 3
   },
   "file_extension": ".py",
   "mimetype": "text/x-python",
   "name": "python",
   "nbconvert_exporter": "python",
   "pygments_lexer": "ipython3",
   "version": "3.6.8"
  }
 },
 "nbformat": 4,
 "nbformat_minor": 2
}
