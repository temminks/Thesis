{
 "cells": [
  {
   "cell_type": "markdown",
   "metadata": {},
   "source": [
    "# Reinforcement Learning on S-RCPSPs\n",
    "This approach uses the Forward Sarsa (λ) algorithm and Adam stochastic gradient descent."
   ]
  },
  {
   "cell_type": "code",
   "execution_count": 1,
   "metadata": {},
   "outputs": [],
   "source": [
    "from collections import deque\n",
    "from Project import *\n",
    "#from Model import *\n",
    "from ForwardSarsaLambda import *"
   ]
  },
  {
   "cell_type": "markdown",
   "metadata": {},
   "source": [
    "### Some references\n",
    "* Episodic Semi-gradient Sarsa for Estimating q using NN with Keras:\n",
    " * https://gist.github.com/FlashTek/0dfddf46c4d50c4e068f1ecbad1d03b5\n",
    " * https://chat.stackoverflow.com/rooms/150499/discussion-between-flashtek-and-neil-slater\n",
    " * https://stackoverflow.com/questions/45377404/episodic-semi-gradient-sarsa-with-neural-network/45391630#45391630\n",
    "* Sarsa Keras\n",
    " * https://github.com/keras-rl/keras-rl/blob/master/rl/agents/sarsa.py\n",
    "* Python implementations of Sutton, Barto (2018) (incl. TD(λ))\n",
    " * https://github.com/ShangtongZhang/reinforcement-learning-an-introduction\n",
    " * https://github.com/ShangtongZhang/reinforcement-learning-an-introduction/blob/ed1ddb0c40e37a8846665f26f01e0522b232634f/chapter12/RandomWalk.py\n",
    "* tensorflow contrib layer scale_gradient\n",
    " * https://github.com/tensorflow/tensorflow/blob/r1.12/tensorflow/contrib/layers/python/layers/layers.py\n",
    "* Sarsa(λ)\n",
    " * https://github.com/codebox/sarsa-lambda/blob/master/strategy.py\n",
    "* TD gammon\n",
    " * https://github.com/fomorians/td-gammon/blob/master/model.py\n",
    "* Adam in numpy\n",
    " * https://github.com/jrios6/Adam-vs-SGD-Numpy/blob/master/Adam%20vs%20SGD%20-%20On%20Kaggle's%20Titanic%20Dataset.ipynb\n",
    "* True Online TD Lambda with Fourier Basis\n",
    " * https://github.com/EllaBot/true-online-td-lambda/blob/master/true_online_td_lambda/true_online_td_lambda.py"
   ]
  },
  {
   "cell_type": "markdown",
   "metadata": {},
   "source": [
    "## To Do\n",
    "* t in adam for bias correction correct?\n",
    "* dropout in Model (only for training) to improve generalisation\n",
    "* fix input vector size to support generalisation ofr problems with an arbitrary number of tasks\n",
    "* save parameters each xx episodes\n",
    "* randomly pick a project to train"
   ]
  },
  {
   "cell_type": "code",
   "execution_count": 2,
   "metadata": {},
   "outputs": [],
   "source": [
    "#path = 'D:\\\\Gregor\\\\Dropbox\\\\Studium\\\\j120.sm\\\\'\n",
    "path = 'C:\\\\Users\\\\webgr_000\\\\Dropbox\\\\Studium\\\\j120.sm\\\\'\n",
    "#path = r'D:\\Gregor\\Dropbox\\Studium\\[M04] - WS 2018-2019\\Thesis\\Test Sets\\J30\\J30.sm\\j301_1.sm'\n",
    "\n",
    "test_sets = (path + \"j12060_9.sm\", path + \"j12047_6.sm\", path + \"j1201_1.sm\")"
   ]
  },
  {
   "cell_type": "code",
   "execution_count": 3,
   "metadata": {},
   "outputs": [],
   "source": [
    "project = Project(test_sets[0], stochastic='exponential')\n",
    "state, _ = project.state()"
   ]
  },
  {
   "cell_type": "code",
   "execution_count": 4,
   "metadata": {},
   "outputs": [],
   "source": [
    "#m= Model(layer_dims=[len(state) + project.num_of_tasks, 1000, 1000, 1000, 1], parameters=p['arr_0'].item())"
   ]
  },
  {
   "cell_type": "code",
   "execution_count": 6,
   "metadata": {},
   "outputs": [
    {
     "ename": "NameError",
     "evalue": "name 'core' is not defined",
     "output_type": "error",
     "traceback": [
      "\u001b[1;31m---------------------------------------------------------------------------\u001b[0m",
      "\u001b[1;31mNameError\u001b[0m                                 Traceback (most recent call last)",
      "\u001b[1;32m<ipython-input-6-6d4894fbc0d7>\u001b[0m in \u001b[0;36m<module>\u001b[1;34m()\u001b[0m\n\u001b[1;32m----> 1\u001b[1;33m \u001b[1;32mimport\u001b[0m \u001b[0mtensorflow\u001b[0m \u001b[1;32mas\u001b[0m \u001b[0mtf\u001b[0m\u001b[1;33m\u001b[0m\u001b[0m\n\u001b[0m\u001b[0;32m      2\u001b[0m \u001b[1;32mimport\u001b[0m \u001b[0mkeras\u001b[0m \u001b[1;32mas\u001b[0m \u001b[0mK\u001b[0m\u001b[1;33m\u001b[0m\u001b[0m\n\u001b[0;32m      3\u001b[0m \u001b[1;32mfrom\u001b[0m \u001b[0mkeras\u001b[0m\u001b[1;33m.\u001b[0m\u001b[0mmodels\u001b[0m \u001b[1;32mimport\u001b[0m \u001b[0mSequential\u001b[0m\u001b[1;33m\u001b[0m\u001b[0m\n\u001b[0;32m      4\u001b[0m \u001b[1;32mfrom\u001b[0m \u001b[0mkeras\u001b[0m\u001b[1;33m.\u001b[0m\u001b[0mlayers\u001b[0m \u001b[1;32mimport\u001b[0m \u001b[0mDense\u001b[0m\u001b[1;33m,\u001b[0m \u001b[0mDropout\u001b[0m\u001b[1;33m\u001b[0m\u001b[0m\n\u001b[0;32m      5\u001b[0m \u001b[1;32mfrom\u001b[0m \u001b[0mkeras\u001b[0m\u001b[1;33m.\u001b[0m\u001b[0moptimizers\u001b[0m \u001b[1;32mimport\u001b[0m \u001b[0mAdam\u001b[0m\u001b[1;33m\u001b[0m\u001b[0m\n",
      "\u001b[1;32mC:\\ProgramData\\Anaconda3\\lib\\site-packages\\tensorflow\\__init__.py\u001b[0m in \u001b[0;36m<module>\u001b[1;34m()\u001b[0m\n\u001b[0;32m    614\u001b[0m \u001b[1;31m# pylint: disable=undefined-variable\u001b[0m\u001b[1;33m\u001b[0m\u001b[1;33m\u001b[0m\u001b[0m\n\u001b[0;32m    615\u001b[0m \u001b[1;32mdel\u001b[0m \u001b[0mpython\u001b[0m\u001b[1;33m\u001b[0m\u001b[0m\n\u001b[1;32m--> 616\u001b[1;33m \u001b[1;32mdel\u001b[0m \u001b[0mcore\u001b[0m\u001b[1;33m\u001b[0m\u001b[0m\n\u001b[0m\u001b[0;32m    617\u001b[0m \u001b[1;31m# pylint: enable=undefined-variable\u001b[0m\u001b[1;33m\u001b[0m\u001b[1;33m\u001b[0m\u001b[0m\n",
      "\u001b[1;31mNameError\u001b[0m: name 'core' is not defined"
     ]
    }
   ],
   "source": [
    "import tensorflow as tf\n",
    "import keras as K\n",
    "from keras.models import Sequential\n",
    "from keras.layers import Dense, Dropout\n",
    "from keras.optimizers import Adam\n",
    "\n",
    "class Model:\n",
    "    def __init__(self, num_of_inputs, activation='relu'):\n",
    "\n",
    "        self.model = model = Sequential()\n",
    "        model.add(Dense(1024, kernel_initializer='he_normal', activation=activation, input_shape=(num_of_inputs, )))\n",
    "        model.add(Dropout(0.2))\n",
    "        model.add(Dense(1024, kernel_initializer='he_normal', activation=activation))\n",
    "        model.add(Dropout(0.2))\n",
    "        model.add(Dense(1024, kernel_initializer='he_normal', activation=activation))\n",
    "        model.add(Dropout(0.2))\n",
    "        model.add(Dense(1, kernel_initializer='he_normal', activation='linear'))\n",
    "\n",
    "        model.compile(loss='mean_squared_error', optimizer='adam')"
   ]
  },
  {
   "cell_type": "code",
   "execution_count": null,
   "metadata": {},
   "outputs": [],
   "source": []
  },
  {
   "cell_type": "code",
   "execution_count": null,
   "metadata": {},
   "outputs": [],
   "source": [
    "m = Model(len(state) + project.num_of_tasks)"
   ]
  },
  {
   "cell_type": "code",
   "execution_count": null,
   "metadata": {},
   "outputs": [],
   "source": [
    "projects = [Project(p, stochastic='exponential') for p in test_sets]\n",
    "fsl = [ForwardSarsaLambda(1, p, m, epsilon=0.9) for p in projects]"
   ]
  },
  {
   "cell_type": "code",
   "execution_count": null,
   "metadata": {
    "scrolled": false
   },
   "outputs": [],
   "source": [
    "for i in range(1):\n",
    "    for f in fsl:\n",
    "        f.train()\n",
    "    i += 1"
   ]
  }
 ],
 "metadata": {
  "kernelspec": {
   "display_name": "Python 3",
   "language": "python",
   "name": "python3"
  },
  "language_info": {
   "codemirror_mode": {
    "name": "ipython",
    "version": 3
   },
   "file_extension": ".py",
   "mimetype": "text/x-python",
   "name": "python",
   "nbconvert_exporter": "python",
   "pygments_lexer": "ipython3",
   "version": "3.6.6"
  }
 },
 "nbformat": 4,
 "nbformat_minor": 2
}
